{
 "cells": [
  {
   "cell_type": "markdown",
   "metadata": {},
   "source": [
    "## Requirements:\n",
    "Make sure you have python with pandas module installed.<br>\n",
    "Version I used while developing:<br>\n",
    "python - 3.10.4<br>\n",
    "pandas - 1.4.1<br>\n",
    "\n",
    "## Warning:\n",
    "To get access token it's required to have an app registered in yandex.<br>\n",
    "You can use [my app](https://oauth.yandex.ru/client/549db500306c4bd68adc834cdaff626b) or [create your own](https://yandex.ru/dev/id/doc/dg/oauth/tasks/register-client.html) for the purpose.<br>\n",
    "You will need to replace _CLIENT_ID_ variable to yours.\n",
    "\n",
    "Script logic:\n",
    "\n",
    "0. It redirects you to verification page to get a token and waits for your to provide it in console\n",
    "    - it will open a session in your default browser and ask for you to authenticate\n",
    "    - you will be redirected on the page with token\n",
    "1. It retrieves all files from your Yandex.Disk\n",
    "2. It compares files against others with fields provided in _size_name_type_ and _size_type_ variables\n",
    "3. It saves \n",
    "\n",
    "### Useful links\n",
    "1. https://yandex.ru/dev/id/doc/dg/oauth/concepts/about.html\n",
    "2. https://yandex.ru/dev/disk/poligon/\n",
    "3. https://yandex.ru/dev/disk/api/reference/meta.html\n",
    "4. https://realpython.com/api-integration-in-python/\n"
   ]
  },
  {
   "cell_type": "markdown",
   "metadata": {},
   "source": [
    "### Modules and Functions"
   ]
  },
  {
   "cell_type": "code",
   "execution_count": null,
   "metadata": {},
   "outputs": [],
   "source": [
    "# MODULES\n",
    "import requests\n",
    "import os, sys\n",
    "import webbrowser\n",
    "import pandas as pd\n",
    "\n",
    "# FUNCTIONS\n",
    "def get_ya_token(client_id:str):\n",
    "    if client_id == None:\n",
    "        raise Warning(\"client_id was not supplied!\")\n",
    "    request = f\"https://oauth.yandex.ru/authorize?response_type=token&client_id={client_id}\"\n",
    "    webbrowser.open_new_tab(request)\n",
    "    return input(\"Enter access_token from webpage here:\")\n",
    "\n",
    "def get_ya_files(access_token: str):    \n",
    "    # get files using access_token supplied\n",
    "    headers = {'Authorization':f'OAuth {access_token}'}\n",
    "    request = f\"https://cloud-api.yandex.net/v1/disk/resources/files?limit={sys.maxsize}\"\n",
    "    print(\"Trying to retrieve your files. It might take some time. Pls wait ⏳\")\n",
    "    response = requests.get(request, headers=headers)\n",
    "    \n",
    "    if response.status_code != 200:\n",
    "        raise Warning(f\"Oops... Finished too fast...\\nReceived: {response}\\nThere's some problem with your request.\\nSee Error codes here: https://yandex.ru/dev/dialogs/smart-home/doc/concepts/responses-codes-alerts.html\")\n",
    "    \n",
    "    files = pd.DataFrame(response.json()['items'])\n",
    "    print(\"Files list retrieved.\")\n",
    "    return files\n",
    "\n",
    "\n",
    "def find_ya_duplicates(df: pd.DataFrame, fields_subset: pd.Series, fields_out: pd.Series = ['size','name','mime_type','path'], save_log: bool = False, path: str = 'duplicates_found.csv' ):\n",
    "    \"\"\"\n",
    "    Function to find duplicates in DataFrame using supplied fields\n",
    "        Takes:\n",
    "        - df: a pandas DataFrame with files recieved from YaDisk\n",
    "        - fields_subset: a pandas Series with fields to identify duplicates over\n",
    "        - fields_out: a pandas Series with fields you want to see in output file/dataframe [optional]\n",
    "            default: ['size','name','mime_type','path']\n",
    "        - save_log: a boolean flag to save output dataframe to a csv [optional]\n",
    "            default: False\n",
    "        - path: a string with path and filename you want to save output [optional]\n",
    "            default: '.\\duplicates_found.csv'\n",
    "        Returns:\n",
    "        - pandas dataframe with all duplicating entries found over fileds supplied in fields_subset\n",
    "    \"\"\"\n",
    "    print(df.shape)\n",
    "    print(f\"{df.shape[0]}\\t- total number of files in your YaDisk\")\n",
    "    print(f\"{df.duplicated(subset=fields_subset).value_counts()[0]}\\t- unique files\")\n",
    "    print(f\"{df.duplicated(subset=fields_subset).value_counts()[1]}\\t- duplicates\")\n",
    "\n",
    "    df_dups = df[df.duplicated(keep=False, subset=fields_subset)==True].sort_values(['size','name'])[fields_out]\n",
    "\n",
    "    if save_log: \n",
    "        path = os.path.join(os.getcwd(), path)\n",
    "        df_dups.to_csv(path, index=False)\n",
    "        print(f\"output saved as csv to {path}\")\n",
    "    return df_dups\n",
    "\n",
    "def get_disk_info(access_token:str):\n",
    "    \"\"\"\n",
    "    https://yandex.ru/dev/disk/api/reference/capacity.html\n",
    "    \"\"\"\n",
    "    headers = {'Authorization':f'OAuth {access_token}'}\n",
    "    request = f\"https://cloud-api.yandex.net/v1/disk/\"\n",
    "    response = requests.get(request, headers=headers)\n",
    "    return response.json()"
   ]
  },
  {
   "cell_type": "markdown",
   "metadata": {},
   "source": [
    "### Getting access token\n",
    "Change _CLIENT_ID_ below in case you want to use your application "
   ]
  },
  {
   "cell_type": "code",
   "execution_count": null,
   "metadata": {},
   "outputs": [],
   "source": [
    "# App: https://oauth.yandex.ru/client/549db500306c4bd68adc834cdaff626b\n",
    "CLIENT_ID = '549db500306c4bd68adc834cdaff626b'\n",
    "access_token = get_ya_token(CLIENT_ID)\n",
    "all_files_df = get_ya_files(access_token)\n",
    "\n",
    "print(f\"Files total:\\t{all_files_df.shape[0]}\")\n",
    "print(f\"Files size:\\t{all_files_df['size'].sum()}\")"
   ]
  },
  {
   "cell_type": "markdown",
   "metadata": {},
   "source": [
    "### Getting duplicates"
   ]
  },
  {
   "cell_type": "code",
   "execution_count": null,
   "metadata": {},
   "outputs": [],
   "source": [
    "# fields of interest: 'name', 'size', 'path', 'mime_type'\n",
    "fields = ['name', 'size', 'path', 'mime_type']\n",
    "# what's [mime_type](https://developer.mozilla.org/en-US/docs/Web/HTTP/Basics_of_HTTP/MIME_types)\n",
    "\n",
    "# fields combo #1 - to find 100% duplicates\n",
    "size_name_type = ['size', 'name', 'mime_type']\n",
    "# fields combo #2 - to find identical candidates\n",
    "size_type = ['size', 'mime_type']\n",
    "\n",
    "find_ya_duplicates(all_files_df, size_name_type, save_log=True, path = 'size_name_mime_out.csv')\n",
    "find_ya_duplicates(all_files_df, size_type, save_log=True, path='size_mime_out.csv')\n",
    "\n",
    "# why pandas?\n",
    "# pandas is faster: https://stackoverflow.com/a/39280934\n"
   ]
  },
  {
   "cell_type": "code",
   "execution_count": null,
   "metadata": {},
   "outputs": [],
   "source": []
  }
 ],
 "metadata": {
  "kernelspec": {
   "display_name": "Python 3.10.4 64-bit",
   "language": "python",
   "name": "python3"
  },
  "language_info": {
   "codemirror_mode": {
    "name": "ipython",
    "version": 3
   },
   "file_extension": ".py",
   "mimetype": "text/x-python",
   "name": "python",
   "nbconvert_exporter": "python",
   "pygments_lexer": "ipython3",
   "version": "3.10.4"
  },
  "orig_nbformat": 4,
  "vscode": {
   "interpreter": {
    "hash": "369f2c481f4da34e4445cda3fffd2e751bd1c4d706f27375911949ba6bb62e1c"
   }
  }
 },
 "nbformat": 4,
 "nbformat_minor": 2
}
